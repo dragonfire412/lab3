{
  "nbformat": 4,
  "nbformat_minor": 0,
  "metadata": {
    "anaconda-cloud": {},
    "kernelspec": {
      "display_name": "Python 3",
      "language": "python",
      "name": "python3"
    },
    "language_info": {
      "codemirror_mode": {
        "name": "ipython",
        "version": 3
      },
      "file_extension": ".py",
      "mimetype": "text/x-python",
      "name": "python",
      "nbconvert_exporter": "python",
      "pygments_lexer": "ipython3",
      "version": "3.7.2"
    },
    "colab": {
      "name": "lab_3_functions_and_comprehensions.ipynb",
      "provenance": [],
      "include_colab_link": true
    }
  },
  "cells": [
    {
      "cell_type": "markdown",
      "metadata": {
        "id": "view-in-github",
        "colab_type": "text"
      },
      "source": [
        "<a href=\"https://colab.research.google.com/github/dragonfire412/lab3/blob/master/lab_3_functions_and_comprehensions.ipynb\" target=\"_parent\"><img src=\"https://colab.research.google.com/assets/colab-badge.svg\" alt=\"Open In Colab\"/></a>"
      ]
    },
    {
      "cell_type": "markdown",
      "metadata": {
        "id": "tfZ-gXbEtV2g",
        "colab_type": "text"
      },
      "source": [
        "# Lab 3 - Function and List Comprehension Exercises\n",
        "\n",
        "Please complete each exercise and submit your work on D2L.\n",
        "\n",
        "**Rules:**\n",
        "\n",
        "1. All functions should be defined with `lambda` (only test functions should use `def` statements.)\n",
        "2. Each function should be accompanied by test function that covers normal and edge cases."
      ]
    },
    {
      "cell_type": "markdown",
      "metadata": {
        "id": "Mxr1l0kytV2h",
        "colab_type": "text"
      },
      "source": [
        "### <font color='red'> Exercise 1 </font>\n",
        "\n",
        "Write a function `sum_of_squares` that computes the sum of the squares of the numbers in the input list. *Use a helper function in your solution*\n",
        "\n",
        "\n",
        "**Example** `sum_of_squares([2, 3, 4]) === 4 + 9 + 16`  **HINT:** Use a comprehension to square the values and `sum` to compute the sum."
      ]
    },
    {
      "cell_type": "code",
      "metadata": {
        "id": "Dn8s5lJ8tV2i",
        "colab_type": "code",
        "colab": {}
      },
      "source": [
        "square = lambda x: x**2\n",
        "sum_of_squares = lambda L: sum([square(x) for x in L])"
      ],
      "execution_count": 12,
      "outputs": []
    },
    {
      "cell_type": "markdown",
      "metadata": {
        "id": "PWEe55NftV2n",
        "colab_type": "text"
      },
      "source": [
        "### <font color=\"red\"> Exercise 2 </font>\n",
        "\n",
        "Write a function called `sum_even` that sums up all the even numbers in a list.  Include helper functions in your solution.\n",
        "\n",
        "**Example** `sum_even([1,2,3,4]) == 6`\n",
        "\n",
        "**Hint** You need a filter here."
      ]
    },
    {
      "cell_type": "code",
      "metadata": {
        "id": "IzrBnFYxtV2n",
        "colab_type": "code",
        "colab": {}
      },
      "source": [
        "is_even = lambda x: x%2 == 0\n",
        "sum_even = lambda L: sum([square(x) for x in L if is_even(x)])"
      ],
      "execution_count": 14,
      "outputs": []
    },
    {
      "cell_type": "markdown",
      "metadata": {
        "id": "GjXU3Mu2tV2q",
        "colab_type": "text"
      },
      "source": [
        "### <font color=\"red\"> Exercise 3 </font>\n",
        "\n",
        "Write a function called `freq` that takes a value `a` and a list `L` as arguments and returns the number of times `a` occurs in `L`.\n",
        "\n",
        "**Example** `freq(1,[1,2,1,3,4]) == 2`\n",
        "\n",
        "**Hint** Use a filter in your comprehension and the `len` function"
      ]
    },
    {
      "cell_type": "code",
      "metadata": {
        "id": "Qhg1_FJAtV2q",
        "colab_type": "code",
        "colab": {}
      },
      "source": [
        "freq = lambda val, L: len([x for x in L if x==val])"
      ],
      "execution_count": 20,
      "outputs": []
    },
    {
      "cell_type": "markdown",
      "metadata": {
        "id": "gIE9kUi4tV2t",
        "colab_type": "text"
      },
      "source": [
        "### <font color=\"red\"> Exercise 4 </font>\n",
        "\n",
        "Write a function called `between` that takes value `a`, `b` and a list `L` as arguments and returns `True` when all of the elements of `L` that strictly between `a` and `b`.\n",
        "\n",
        "**Example** `between(0, 5,[1,2,1,3,4]) == True`\n",
        "\n",
        "**Hint** Use a boolean expresion and the `all` function."
      ]
    },
    {
      "cell_type": "code",
      "metadata": {
        "id": "8YBAO7XstV2u",
        "colab_type": "code",
        "colab": {}
      },
      "source": [
        "between = lambda low, high, L: sorted(L)[0] >= low and sorted(L)[-1] <= high"
      ],
      "execution_count": 16,
      "outputs": []
    }
  ]
}